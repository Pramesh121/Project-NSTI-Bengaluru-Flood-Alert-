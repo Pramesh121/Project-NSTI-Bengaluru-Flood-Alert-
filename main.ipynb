{
 "cells": [
  {
   "cell_type": "code",
   "execution_count": null,
   "id": "543f7527-9609-43d5-b135-79b9ade838d4",
   "metadata": {},
   "outputs": [],
   "source": [
    "!pip install deep-translator"
   ]
  },
  {
   "cell_type": "code",
   "execution_count": 72,
   "id": "886ac09b-92e9-4bf9-90fa-1101120a0f88",
   "metadata": {},
   "outputs": [],
   "source": [
    "from deep_translator import GoogleTranslator\n",
    "\n",
    "def translate_message(message, dest_language='hi'):\n",
    "    translated = GoogleTranslator(source='en', target='hi').translate(\"Flood warning in your area!\")    \n",
    "    return translated\n"
   ]
  },
  {
   "cell_type": "code",
   "execution_count": 74,
   "id": "84877261-8e7e-490f-8244-67062424a8bb",
   "metadata": {},
   "outputs": [],
   "source": [
    "import requests\n",
    "\n",
    "def send_sms(number, message):\n",
    "    url = \"https://www.fast2sms.com/dev/bulkV2\"\n",
    "\n",
    "    querystring = {\n",
    "        \"authorization\": \"1ZRhkMsSHVf8cry6ndJ4K5iUPFaT92oumzqpIbDel0LwX7WQgvvYeaq0E1jR2V7oNwbApK56kmM9XWnh\",\n",
    "        \"message\": message,\n",
    "        \"language\": \"english\",\n",
    "        \"route\": \"q\",\n",
    "        \"numbers\": number}\n",
    "\n",
    "    headers = {\n",
    "        'cache-control': \"no-cache\"\n",
    "    }\n",
    "    try:\n",
    "        response = requests.request(\"GET\", url,\n",
    "                                    headers = headers,\n",
    "                                    params = querystring)\n",
    "        \n",
    "        print(\"SMS Successfully Sent\")\n",
    "    except:\n",
    "        print(\"Oops! Something wrong\")"
   ]
  },
  {
   "cell_type": "code",
   "execution_count": 85,
   "id": "da2f2af0-186c-4fd4-b770-fb1be03abcf3",
   "metadata": {},
   "outputs": [
    {
     "name": "stdout",
     "output_type": "stream",
     "text": [
      "अपने क्षेत्र में बाढ़ की चेतावनी!\n",
      "अपने क्षेत्र में बाढ़ की चेतावनी!\n",
      "Oops! Something wrong\n"
     ]
    }
   ],
   "source": [
    "import pickle\n",
    "import pandas as pd \n",
    "\n",
    "# Load trained model\n",
    "with open('models/flood_predictor.pkl', 'rb') as f:\n",
    "    model = pickle.load(f)\n",
    "\n",
    "# Example real-time data\n",
    "data = pd.DataFrame([{\n",
    "    'rainfall_mm': 115,\n",
    "    'river_level': 6.7,\n",
    "    'temp': 27,\n",
    "    'wind_speed': 25\n",
    "}])\n",
    "\n",
    "# Predict flood risk\n",
    "prediction = model.predict(data)[0]\n",
    "\n",
    "if prediction == 1:\n",
    "    original_msg = \"Flood likely in your area. Move to higher ground.\"\n",
    "   \n",
    "    local_msg = translate_message(original_msg, dest_language='hi')  # Change 'hi' to any ISO language code\n",
    "    print(translated)\n",
    "    send_sms(\"9216144335\", \"Hello\")\n",
    "else:\n",
    "    print(\"No flood predicted.\")"
   ]
  },
  {
   "cell_type": "code",
   "execution_count": 89,
   "id": "a0a616b9-ef25-44f0-a77d-d52c4d37b2b2",
   "metadata": {},
   "outputs": [
    {
     "name": "stdout",
     "output_type": "stream",
     "text": [
      "SMS Successfully Sent\n"
     ]
    }
   ],
   "source": [
    "send_sms(\"9216144335\", local_msg)"
   ]
  },
  {
   "cell_type": "code",
   "execution_count": null,
   "id": "200787b3-d4fc-42f6-b718-26ea0c6dfbc0",
   "metadata": {},
   "outputs": [],
   "source": []
  }
 ],
 "metadata": {
  "kernelspec": {
   "display_name": "Python 3 (ipykernel)",
   "language": "python",
   "name": "python3"
  },
  "language_info": {
   "codemirror_mode": {
    "name": "ipython",
    "version": 3
   },
   "file_extension": ".py",
   "mimetype": "text/x-python",
   "name": "python",
   "nbconvert_exporter": "python",
   "pygments_lexer": "ipython3",
   "version": "3.12.3"
  }
 },
 "nbformat": 4,
 "nbformat_minor": 5
}
